{
 "cells": [
  {
   "cell_type": "markdown",
   "metadata": {},
   "source": [
    "# Under & Over sampling"
   ]
  },
  {
   "cell_type": "code",
   "execution_count": null,
   "metadata": {},
   "outputs": [],
   "source": [
    "#its technique to match the data whihc is imabalace,beacuse imbalance data lead to worng prediction."
   ]
  },
  {
   "cell_type": "markdown",
   "metadata": {},
   "source": []
  },
  {
   "cell_type": "markdown",
   "metadata": {},
   "source": [
    "#here is 4 models have to be created while sampling \n",
    "1) as it is \n",
    "2) Over sampling tech\n",
    "3) Under sampling tech\n",
    "4) Hybrid samplig ( both )"
   ]
  },
  {
   "cell_type": "markdown",
   "metadata": {},
   "source": [
    "\n",
    "# Import the Libraries"
   ]
  },
  {
   "cell_type": "code",
   "execution_count": 1,
   "metadata": {},
   "outputs": [],
   "source": [
    "import pandas as pd\n",
    "import numpy as np\n",
    "from  sklearn.metrics import accuracy_score,classification_report\n",
    "from imblearn.over_sampling import SMOTE\n",
    "import seaborn as sns\n",
    "from sklearn.model_selection import train_test_split\n",
    "#SMOTE -- > Synthetic minority Oversampling Technique"
   ]
  },
  {
   "cell_type": "markdown",
   "metadata": {},
   "source": [
    "# Read the data"
   ]
  },
  {
   "cell_type": "code",
   "execution_count": 3,
   "metadata": {},
   "outputs": [
    {
     "data": {
      "text/html": [
       "<div>\n",
       "<style scoped>\n",
       "    .dataframe tbody tr th:only-of-type {\n",
       "        vertical-align: middle;\n",
       "    }\n",
       "\n",
       "    .dataframe tbody tr th {\n",
       "        vertical-align: top;\n",
       "    }\n",
       "\n",
       "    .dataframe thead th {\n",
       "        text-align: right;\n",
       "    }\n",
       "</style>\n",
       "<table border=\"1\" class=\"dataframe\">\n",
       "  <thead>\n",
       "    <tr style=\"text-align: right;\">\n",
       "      <th></th>\n",
       "      <th>attrition</th>\n",
       "      <th>age</th>\n",
       "      <th>travel</th>\n",
       "      <th>department</th>\n",
       "      <th>distance</th>\n",
       "      <th>gender</th>\n",
       "      <th>job_satisf</th>\n",
       "      <th>marital</th>\n",
       "      <th>num_comp</th>\n",
       "      <th>total_exp</th>\n",
       "      <th>yrs_in comp</th>\n",
       "      <th>yrs_in_curr_role</th>\n",
       "      <th>yrs_since_prom</th>\n",
       "      <th>yrs_with_curr_mgr</th>\n",
       "    </tr>\n",
       "  </thead>\n",
       "  <tbody>\n",
       "    <tr>\n",
       "      <th>0</th>\n",
       "      <td>Yes</td>\n",
       "      <td>41</td>\n",
       "      <td>Travel_Rarely</td>\n",
       "      <td>Sales</td>\n",
       "      <td>1</td>\n",
       "      <td>Female</td>\n",
       "      <td>4</td>\n",
       "      <td>Single</td>\n",
       "      <td>8</td>\n",
       "      <td>8</td>\n",
       "      <td>6</td>\n",
       "      <td>4</td>\n",
       "      <td>0</td>\n",
       "      <td>5</td>\n",
       "    </tr>\n",
       "    <tr>\n",
       "      <th>1</th>\n",
       "      <td>No</td>\n",
       "      <td>49</td>\n",
       "      <td>Travel_Frequently</td>\n",
       "      <td>Research &amp; Development</td>\n",
       "      <td>8</td>\n",
       "      <td>Male</td>\n",
       "      <td>2</td>\n",
       "      <td>Married</td>\n",
       "      <td>1</td>\n",
       "      <td>10</td>\n",
       "      <td>10</td>\n",
       "      <td>7</td>\n",
       "      <td>1</td>\n",
       "      <td>7</td>\n",
       "    </tr>\n",
       "    <tr>\n",
       "      <th>2</th>\n",
       "      <td>No</td>\n",
       "      <td>33</td>\n",
       "      <td>Travel_Frequently</td>\n",
       "      <td>Research &amp; Development</td>\n",
       "      <td>3</td>\n",
       "      <td>Female</td>\n",
       "      <td>3</td>\n",
       "      <td>Married</td>\n",
       "      <td>1</td>\n",
       "      <td>8</td>\n",
       "      <td>8</td>\n",
       "      <td>7</td>\n",
       "      <td>3</td>\n",
       "      <td>0</td>\n",
       "    </tr>\n",
       "    <tr>\n",
       "      <th>3</th>\n",
       "      <td>No</td>\n",
       "      <td>27</td>\n",
       "      <td>Travel_Rarely</td>\n",
       "      <td>Research &amp; Development</td>\n",
       "      <td>2</td>\n",
       "      <td>Male</td>\n",
       "      <td>2</td>\n",
       "      <td>Married</td>\n",
       "      <td>9</td>\n",
       "      <td>6</td>\n",
       "      <td>2</td>\n",
       "      <td>2</td>\n",
       "      <td>2</td>\n",
       "      <td>2</td>\n",
       "    </tr>\n",
       "    <tr>\n",
       "      <th>4</th>\n",
       "      <td>No</td>\n",
       "      <td>32</td>\n",
       "      <td>Travel_Frequently</td>\n",
       "      <td>Research &amp; Development</td>\n",
       "      <td>2</td>\n",
       "      <td>Male</td>\n",
       "      <td>4</td>\n",
       "      <td>Single</td>\n",
       "      <td>0</td>\n",
       "      <td>8</td>\n",
       "      <td>7</td>\n",
       "      <td>7</td>\n",
       "      <td>3</td>\n",
       "      <td>6</td>\n",
       "    </tr>\n",
       "    <tr>\n",
       "      <th>...</th>\n",
       "      <td>...</td>\n",
       "      <td>...</td>\n",
       "      <td>...</td>\n",
       "      <td>...</td>\n",
       "      <td>...</td>\n",
       "      <td>...</td>\n",
       "      <td>...</td>\n",
       "      <td>...</td>\n",
       "      <td>...</td>\n",
       "      <td>...</td>\n",
       "      <td>...</td>\n",
       "      <td>...</td>\n",
       "      <td>...</td>\n",
       "      <td>...</td>\n",
       "    </tr>\n",
       "    <tr>\n",
       "      <th>2935</th>\n",
       "      <td>No</td>\n",
       "      <td>36</td>\n",
       "      <td>Non-Travel</td>\n",
       "      <td>Sales</td>\n",
       "      <td>15</td>\n",
       "      <td>Male</td>\n",
       "      <td>4</td>\n",
       "      <td>Divorced</td>\n",
       "      <td>1</td>\n",
       "      <td>15</td>\n",
       "      <td>15</td>\n",
       "      <td>12</td>\n",
       "      <td>11</td>\n",
       "      <td>11</td>\n",
       "    </tr>\n",
       "    <tr>\n",
       "      <th>2936</th>\n",
       "      <td>No</td>\n",
       "      <td>38</td>\n",
       "      <td>Travel_Rarely</td>\n",
       "      <td>Sales</td>\n",
       "      <td>10</td>\n",
       "      <td>Female</td>\n",
       "      <td>4</td>\n",
       "      <td>Married</td>\n",
       "      <td>1</td>\n",
       "      <td>10</td>\n",
       "      <td>10</td>\n",
       "      <td>7</td>\n",
       "      <td>1</td>\n",
       "      <td>9</td>\n",
       "    </tr>\n",
       "    <tr>\n",
       "      <th>2937</th>\n",
       "      <td>Yes</td>\n",
       "      <td>50</td>\n",
       "      <td>Travel_Frequently</td>\n",
       "      <td>Sales</td>\n",
       "      <td>1</td>\n",
       "      <td>Male</td>\n",
       "      <td>3</td>\n",
       "      <td>Divorced</td>\n",
       "      <td>7</td>\n",
       "      <td>12</td>\n",
       "      <td>6</td>\n",
       "      <td>3</td>\n",
       "      <td>0</td>\n",
       "      <td>1</td>\n",
       "    </tr>\n",
       "    <tr>\n",
       "      <th>2938</th>\n",
       "      <td>No</td>\n",
       "      <td>31</td>\n",
       "      <td>Non-Travel</td>\n",
       "      <td>Research &amp; Development</td>\n",
       "      <td>5</td>\n",
       "      <td>Male</td>\n",
       "      <td>1</td>\n",
       "      <td>Single</td>\n",
       "      <td>0</td>\n",
       "      <td>10</td>\n",
       "      <td>9</td>\n",
       "      <td>4</td>\n",
       "      <td>1</td>\n",
       "      <td>7</td>\n",
       "    </tr>\n",
       "    <tr>\n",
       "      <th>2939</th>\n",
       "      <td>No</td>\n",
       "      <td>26</td>\n",
       "      <td>Travel_Rarely</td>\n",
       "      <td>Sales</td>\n",
       "      <td>5</td>\n",
       "      <td>Female</td>\n",
       "      <td>3</td>\n",
       "      <td>Single</td>\n",
       "      <td>0</td>\n",
       "      <td>5</td>\n",
       "      <td>4</td>\n",
       "      <td>2</td>\n",
       "      <td>0</td>\n",
       "      <td>0</td>\n",
       "    </tr>\n",
       "  </tbody>\n",
       "</table>\n",
       "<p>2940 rows × 14 columns</p>\n",
       "</div>"
      ],
      "text/plain": [
       "     attrition  age             travel              department  distance  \\\n",
       "0          Yes   41      Travel_Rarely                   Sales         1   \n",
       "1           No   49  Travel_Frequently  Research & Development         8   \n",
       "2           No   33  Travel_Frequently  Research & Development         3   \n",
       "3           No   27      Travel_Rarely  Research & Development         2   \n",
       "4           No   32  Travel_Frequently  Research & Development         2   \n",
       "...        ...  ...                ...                     ...       ...   \n",
       "2935        No   36         Non-Travel                   Sales        15   \n",
       "2936        No   38      Travel_Rarely                   Sales        10   \n",
       "2937       Yes   50  Travel_Frequently                   Sales         1   \n",
       "2938        No   31         Non-Travel  Research & Development         5   \n",
       "2939        No   26      Travel_Rarely                   Sales         5   \n",
       "\n",
       "      gender  job_satisf   marital  num_comp  total_exp  yrs_in comp  \\\n",
       "0     Female           4    Single         8          8            6   \n",
       "1       Male           2   Married         1         10           10   \n",
       "2     Female           3   Married         1          8            8   \n",
       "3       Male           2   Married         9          6            2   \n",
       "4       Male           4    Single         0          8            7   \n",
       "...      ...         ...       ...       ...        ...          ...   \n",
       "2935    Male           4  Divorced         1         15           15   \n",
       "2936  Female           4   Married         1         10           10   \n",
       "2937    Male           3  Divorced         7         12            6   \n",
       "2938    Male           1    Single         0         10            9   \n",
       "2939  Female           3    Single         0          5            4   \n",
       "\n",
       "      yrs_in_curr_role  yrs_since_prom  yrs_with_curr_mgr  \n",
       "0                    4               0                  5  \n",
       "1                    7               1                  7  \n",
       "2                    7               3                  0  \n",
       "3                    2               2                  2  \n",
       "4                    7               3                  6  \n",
       "...                ...             ...                ...  \n",
       "2935                12              11                 11  \n",
       "2936                 7               1                  9  \n",
       "2937                 3               0                  1  \n",
       "2938                 4               1                  7  \n",
       "2939                 2               0                  0  \n",
       "\n",
       "[2940 rows x 14 columns]"
      ]
     },
     "execution_count": 3,
     "metadata": {},
     "output_type": "execute_result"
    }
   ],
   "source": [
    "hr=pd.read_csv('F:\\DATA SCIENCE\\python\\py\\ALGORITHMS\\Over and undersampling\\hr_emp.csv')\n",
    "hr\n"
   ]
  },
  {
   "cell_type": "markdown",
   "metadata": {},
   "source": [
    "# Explore the data"
   ]
  },
  {
   "cell_type": "code",
   "execution_count": 4,
   "metadata": {},
   "outputs": [
    {
     "name": "stdout",
     "output_type": "stream",
     "text": [
      "<class 'pandas.core.frame.DataFrame'>\n",
      "RangeIndex: 2940 entries, 0 to 2939\n",
      "Data columns (total 14 columns):\n",
      " #   Column             Non-Null Count  Dtype \n",
      "---  ------             --------------  ----- \n",
      " 0   attrition          2940 non-null   object\n",
      " 1   age                2940 non-null   int64 \n",
      " 2   travel             2940 non-null   object\n",
      " 3   department         2940 non-null   object\n",
      " 4   distance           2940 non-null   int64 \n",
      " 5   gender             2940 non-null   object\n",
      " 6   job_satisf         2940 non-null   int64 \n",
      " 7   marital            2940 non-null   object\n",
      " 8   num_comp           2940 non-null   int64 \n",
      " 9   total_exp          2940 non-null   int64 \n",
      " 10  yrs_in comp        2940 non-null   int64 \n",
      " 11  yrs_in_curr_role   2940 non-null   int64 \n",
      " 12  yrs_since_prom     2940 non-null   int64 \n",
      " 13  yrs_with_curr_mgr  2940 non-null   int64 \n",
      "dtypes: int64(9), object(5)\n",
      "memory usage: 321.7+ KB\n"
     ]
    }
   ],
   "source": [
    "hr.shape\n",
    "hr.info()"
   ]
  },
  {
   "cell_type": "code",
   "execution_count": 5,
   "metadata": {},
   "outputs": [
    {
     "data": {
      "text/plain": [
       "No     2466\n",
       "Yes     474\n",
       "Name: attrition, dtype: int64"
      ]
     },
     "execution_count": 5,
     "metadata": {},
     "output_type": "execute_result"
    }
   ],
   "source": [
    "#TO get the Imbalanced data\n",
    "hr.attrition.value_counts()\n",
    "#so here our y varible is attrition ,where we find its imbalanced data "
   ]
  },
  {
   "cell_type": "code",
   "execution_count": 6,
   "metadata": {},
   "outputs": [
    {
     "data": {
      "text/plain": [
       "5.2025316455696204"
      ]
     },
     "execution_count": 6,
     "metadata": {},
     "output_type": "execute_result"
    }
   ],
   "source": [
    "2466/len(hr)\n",
    "474/len(hr)\n",
    "2466/474\n",
    "#but beacuse of data is imbalnced its misleading in prediction so..resampled the data\n",
    "#so 5.2 % employee is going to leave so from 5, 1 employee going to leave\n",
    " \n",
    "#before doing oversampling ensure thath the data is numeric"
   ]
  },
  {
   "cell_type": "markdown",
   "metadata": {},
   "source": [
    "#To get the numeric data"
   ]
  },
  {
   "cell_type": "code",
   "execution_count": 7,
   "metadata": {},
   "outputs": [],
   "source": [
    "hr.dtypes\n",
    "nc=hr.select_dtypes(exclude='object').columns.values\n",
    "nc\n",
    "y='attrition'\n",
    "#_________________________________\n",
    "#OVER sampling of data using Smote\n",
    "#___________________________________"
   ]
  },
  {
   "cell_type": "code",
   "execution_count": 8,
   "metadata": {},
   "outputs": [
    {
     "data": {
      "text/plain": [
       "array(['age', 'distance', 'job_satisf', 'num_comp', 'total_exp',\n",
       "       'yrs_in comp', 'yrs_in_curr_role', 'yrs_since_prom',\n",
       "       'yrs_with_curr_mgr'], dtype=object)"
      ]
     },
     "execution_count": 8,
     "metadata": {},
     "output_type": "execute_result"
    }
   ],
   "source": [
    "nc"
   ]
  },
  {
   "cell_type": "markdown",
   "metadata": {},
   "source": [
    "# Oversampling tech - SMOTE - Synthetic minority oversampling technique"
   ]
  },
  {
   "cell_type": "code",
   "execution_count": 9,
   "metadata": {},
   "outputs": [],
   "source": [
    "sm=SMOTE()"
   ]
  },
  {
   "cell_type": "code",
   "execution_count": 10,
   "metadata": {},
   "outputs": [],
   "source": [
    "attrx1,attry1=sm.fit_resample(hr[nc],hr[y])"
   ]
  },
  {
   "cell_type": "markdown",
   "metadata": {},
   "source": [
    "#print the actual and oversampling data"
   ]
  },
  {
   "cell_type": "code",
   "execution_count": 11,
   "metadata": {},
   "outputs": [
    {
     "name": "stdout",
     "output_type": "stream",
     "text": [
      "actual attrtion=2940,oversampled attrition=4932\n"
     ]
    }
   ],
   "source": [
    "print('actual attrtion={},oversampled attrition={}'.format(len(hr),len(attrx1)))"
   ]
  },
  {
   "cell_type": "markdown",
   "metadata": {},
   "source": [
    "#Print Y varibel to cross validate"
   ]
  },
  {
   "cell_type": "code",
   "execution_count": 12,
   "metadata": {},
   "outputs": [
    {
     "name": "stdout",
     "output_type": "stream",
     "text": [
      "actual Y = \n",
      " No     2466\n",
      "Yes     474\n",
      "Name: attrition, dtype: int64,\n",
      " oversampled Y = \n",
      "No     2466\n",
      "Yes    2466\n",
      "Name: attrition, dtype: int64\n"
     ]
    }
   ],
   "source": [
    "print('actual Y = \\n {},\\n oversampled Y = \\n{}'.format(hr[y].value_counts(), attry1.value_counts()))"
   ]
  },
  {
   "cell_type": "markdown",
   "metadata": {},
   "source": [
    "#So now build the model using oversampled data i.e attrx1,attry1"
   ]
  },
  {
   "cell_type": "code",
   "execution_count": 13,
   "metadata": {},
   "outputs": [
    {
     "data": {
      "text/plain": [
       "0       Yes\n",
       "1        No\n",
       "2        No\n",
       "3        No\n",
       "4        No\n",
       "       ... \n",
       "4927    Yes\n",
       "4928    Yes\n",
       "4929    Yes\n",
       "4930    Yes\n",
       "4931    Yes\n",
       "Name: attrition, Length: 4932, dtype: object"
      ]
     },
     "execution_count": 13,
     "metadata": {},
     "output_type": "execute_result"
    }
   ],
   "source": [
    "attrx1\n",
    "attry1"
   ]
  },
  {
   "cell_type": "markdown",
   "metadata": {},
   "source": [
    "# Under Sampling technique useing Nearmiss"
   ]
  },
  {
   "cell_type": "code",
   "execution_count": 14,
   "metadata": {},
   "outputs": [],
   "source": [
    "from imblearn.under_sampling import NearMiss\n",
    "nm=NearMiss()\n",
    "attrx2,attry2=nm.fit_resample(hr[nc],hr[y])\n",
    "#print the actual and undersampled data info"
   ]
  },
  {
   "cell_type": "markdown",
   "metadata": {},
   "source": []
  },
  {
   "cell_type": "code",
   "execution_count": 15,
   "metadata": {},
   "outputs": [
    {
     "name": "stdout",
     "output_type": "stream",
     "text": [
      "actual X = 2940, undersampled X =948\n"
     ]
    }
   ],
   "source": [
    "print(\"actual X = {}, undersampled X ={}\".format(len(hr), len(attrx2)))"
   ]
  },
  {
   "cell_type": "markdown",
   "metadata": {},
   "source": []
  },
  {
   "cell_type": "code",
   "execution_count": 16,
   "metadata": {},
   "outputs": [
    {
     "name": "stdout",
     "output_type": "stream",
     "text": [
      "actual Y=\n",
      " No     2466\n",
      "Yes     474\n",
      "Name: attrition, dtype: int64,\n",
      " undersampled y =\n",
      "Yes    474\n",
      "No     474\n",
      "Name: attrition, dtype: int64\n"
     ]
    }
   ],
   "source": [
    "print('actual Y=\\n {},\\n undersampled y =\\n{}'.format(hr[y].value_counts(), attry2.value_counts()))"
   ]
  },
  {
   "cell_type": "markdown",
   "metadata": {},
   "source": [
    "# Hybrid Model -By using Both Oversampling and Undersampling"
   ]
  },
  {
   "cell_type": "code",
   "execution_count": 17,
   "metadata": {},
   "outputs": [],
   "source": [
    "from imblearn.pipeline import Pipeline\n",
    "from imblearn.under_sampling import RandomUnderSampler"
   ]
  },
  {
   "cell_type": "markdown",
   "metadata": {},
   "source": [
    "#Configure the % of sampling"
   ]
  },
  {
   "cell_type": "code",
   "execution_count": 38,
   "metadata": {},
   "outputs": [],
   "source": [
    "oversample=SMOTE(sampling_strategy=0.20)\n",
    "undersamp=RandomUnderSampler(sampling_strategy=0.5)"
   ]
  },
  {
   "cell_type": "code",
   "execution_count": 39,
   "metadata": {},
   "outputs": [],
   "source": [
    "steps=[('o',oversample),('u',undersamp)]"
   ]
  },
  {
   "cell_type": "code",
   "execution_count": 40,
   "metadata": {},
   "outputs": [
    {
     "data": {
      "text/plain": [
       "0        No\n",
       "1        No\n",
       "2        No\n",
       "3        No\n",
       "4        No\n",
       "       ... \n",
       "1474    Yes\n",
       "1475    Yes\n",
       "1476    Yes\n",
       "1477    Yes\n",
       "1478    Yes\n",
       "Name: attrition, Length: 1479, dtype: object"
      ]
     },
     "execution_count": 40,
     "metadata": {},
     "output_type": "execute_result"
    }
   ],
   "source": [
    "attrx3,attry3=Pipeline(steps=steps).fit_resample(hr[nc],hr[y])\n",
    "attrx3\n",
    "attry3"
   ]
  },
  {
   "cell_type": "markdown",
   "metadata": {},
   "source": [
    "#Print the data and take count of change"
   ]
  },
  {
   "cell_type": "markdown",
   "metadata": {},
   "source": [
    "#Print the actula and undersampled data info<br>\n"
   ]
  },
  {
   "cell_type": "code",
   "execution_count": 41,
   "metadata": {},
   "outputs": [
    {
     "name": "stdout",
     "output_type": "stream",
     "text": [
      "actual X =2940,hybrid X=1479\n",
      "actual Y=\n",
      "No     2466\n",
      "Yes     474\n",
      "Name: attrition, dtype: int64,\n",
      " hybrid Y=\n",
      " No     986\n",
      "Yes    493\n",
      "Name: attrition, dtype: int64\n"
     ]
    }
   ],
   "source": [
    "print('actual X ={},hybrid X={}'.format(len(hr), len(attrx3)))\n",
    "#Y\n",
    "print('actual Y=\\n{},\\n hybrid Y=\\n {}'.format(hr[y].value_counts(), attry3.value_counts()))\n",
    "#so by hybrid our ration is noe 2:1 which not that much imbalanced than actual"
   ]
  },
  {
   "cell_type": "markdown",
   "metadata": {},
   "source": []
  },
  {
   "cell_type": "markdown",
   "metadata": {},
   "source": [
    "#1)build the logistic regression with all sampling techniquees and predict the churn\n",
    "#2)compare all the results with all sampling tech"
   ]
  },
  {
   "cell_type": "markdown",
   "metadata": {},
   "source": [
    "#so now we have all the reasmpled data "
   ]
  },
  {
   "cell_type": "markdown",
   "metadata": {},
   "source": [
    "# Basic model on Logistic regression"
   ]
  },
  {
   "cell_type": "code",
   "execution_count": 42,
   "metadata": {},
   "outputs": [
    {
     "data": {
      "text/html": [
       "<div>\n",
       "<style scoped>\n",
       "    .dataframe tbody tr th:only-of-type {\n",
       "        vertical-align: middle;\n",
       "    }\n",
       "\n",
       "    .dataframe tbody tr th {\n",
       "        vertical-align: top;\n",
       "    }\n",
       "\n",
       "    .dataframe thead th {\n",
       "        text-align: right;\n",
       "    }\n",
       "</style>\n",
       "<table border=\"1\" class=\"dataframe\">\n",
       "  <thead>\n",
       "    <tr style=\"text-align: right;\">\n",
       "      <th></th>\n",
       "      <th>attrition</th>\n",
       "      <th>travel</th>\n",
       "      <th>department</th>\n",
       "      <th>gender</th>\n",
       "      <th>marital</th>\n",
       "    </tr>\n",
       "  </thead>\n",
       "  <tbody>\n",
       "    <tr>\n",
       "      <th>0</th>\n",
       "      <td>Yes</td>\n",
       "      <td>Travel_Rarely</td>\n",
       "      <td>Sales</td>\n",
       "      <td>Female</td>\n",
       "      <td>Single</td>\n",
       "    </tr>\n",
       "    <tr>\n",
       "      <th>1</th>\n",
       "      <td>No</td>\n",
       "      <td>Travel_Frequently</td>\n",
       "      <td>Research &amp; Development</td>\n",
       "      <td>Male</td>\n",
       "      <td>Married</td>\n",
       "    </tr>\n",
       "    <tr>\n",
       "      <th>2</th>\n",
       "      <td>No</td>\n",
       "      <td>Travel_Frequently</td>\n",
       "      <td>Research &amp; Development</td>\n",
       "      <td>Female</td>\n",
       "      <td>Married</td>\n",
       "    </tr>\n",
       "    <tr>\n",
       "      <th>3</th>\n",
       "      <td>No</td>\n",
       "      <td>Travel_Rarely</td>\n",
       "      <td>Research &amp; Development</td>\n",
       "      <td>Male</td>\n",
       "      <td>Married</td>\n",
       "    </tr>\n",
       "    <tr>\n",
       "      <th>4</th>\n",
       "      <td>No</td>\n",
       "      <td>Travel_Frequently</td>\n",
       "      <td>Research &amp; Development</td>\n",
       "      <td>Male</td>\n",
       "      <td>Single</td>\n",
       "    </tr>\n",
       "    <tr>\n",
       "      <th>...</th>\n",
       "      <td>...</td>\n",
       "      <td>...</td>\n",
       "      <td>...</td>\n",
       "      <td>...</td>\n",
       "      <td>...</td>\n",
       "    </tr>\n",
       "    <tr>\n",
       "      <th>2935</th>\n",
       "      <td>No</td>\n",
       "      <td>Non-Travel</td>\n",
       "      <td>Sales</td>\n",
       "      <td>Male</td>\n",
       "      <td>Divorced</td>\n",
       "    </tr>\n",
       "    <tr>\n",
       "      <th>2936</th>\n",
       "      <td>No</td>\n",
       "      <td>Travel_Rarely</td>\n",
       "      <td>Sales</td>\n",
       "      <td>Female</td>\n",
       "      <td>Married</td>\n",
       "    </tr>\n",
       "    <tr>\n",
       "      <th>2937</th>\n",
       "      <td>Yes</td>\n",
       "      <td>Travel_Frequently</td>\n",
       "      <td>Sales</td>\n",
       "      <td>Male</td>\n",
       "      <td>Divorced</td>\n",
       "    </tr>\n",
       "    <tr>\n",
       "      <th>2938</th>\n",
       "      <td>No</td>\n",
       "      <td>Non-Travel</td>\n",
       "      <td>Research &amp; Development</td>\n",
       "      <td>Male</td>\n",
       "      <td>Single</td>\n",
       "    </tr>\n",
       "    <tr>\n",
       "      <th>2939</th>\n",
       "      <td>No</td>\n",
       "      <td>Travel_Rarely</td>\n",
       "      <td>Sales</td>\n",
       "      <td>Female</td>\n",
       "      <td>Single</td>\n",
       "    </tr>\n",
       "  </tbody>\n",
       "</table>\n",
       "<p>2940 rows × 5 columns</p>\n",
       "</div>"
      ],
      "text/plain": [
       "     attrition             travel              department  gender   marital\n",
       "0          Yes      Travel_Rarely                   Sales  Female    Single\n",
       "1           No  Travel_Frequently  Research & Development    Male   Married\n",
       "2           No  Travel_Frequently  Research & Development  Female   Married\n",
       "3           No      Travel_Rarely  Research & Development    Male   Married\n",
       "4           No  Travel_Frequently  Research & Development    Male    Single\n",
       "...        ...                ...                     ...     ...       ...\n",
       "2935        No         Non-Travel                   Sales    Male  Divorced\n",
       "2936        No      Travel_Rarely                   Sales  Female   Married\n",
       "2937       Yes  Travel_Frequently                   Sales    Male  Divorced\n",
       "2938        No         Non-Travel  Research & Development    Male    Single\n",
       "2939        No      Travel_Rarely                   Sales  Female    Single\n",
       "\n",
       "[2940 rows x 5 columns]"
      ]
     },
     "execution_count": 42,
     "metadata": {},
     "output_type": "execute_result"
    }
   ],
   "source": [
    "nc=hr.select_dtypes(include=np.number)\n",
    "nc\n",
    "fc=hr.select_dtypes(exclude=np.number)\n",
    "fc"
   ]
  },
  {
   "cell_type": "markdown",
   "metadata": {},
   "source": [
    "DA of data "
   ]
  },
  {
   "cell_type": "code",
   "execution_count": 43,
   "metadata": {},
   "outputs": [
    {
     "data": {
      "text/plain": [
       "attrition            0\n",
       "age                  0\n",
       "travel               0\n",
       "department           0\n",
       "distance             0\n",
       "gender               0\n",
       "job_satisf           0\n",
       "marital              0\n",
       "num_comp             0\n",
       "total_exp            0\n",
       "yrs_in comp          0\n",
       "yrs_in_curr_role     0\n",
       "yrs_since_prom       0\n",
       "yrs_with_curr_mgr    0\n",
       "dtype: int64"
      ]
     },
     "execution_count": 43,
     "metadata": {},
     "output_type": "execute_result"
    }
   ],
   "source": [
    "hr.isnull().sum()\n",
    "#so there is no null in data"
   ]
  },
  {
   "cell_type": "markdown",
   "metadata": {},
   "source": [
    "#Checking for 0  in data"
   ]
  },
  {
   "cell_type": "code",
   "execution_count": 49,
   "metadata": {},
   "outputs": [
    {
     "data": {
      "text/plain": [
       "attrition               0\n",
       "age                     0\n",
       "travel                  0\n",
       "department              0\n",
       "distance                0\n",
       "gender                  0\n",
       "job_satisf              0\n",
       "marital                 0\n",
       "num_comp              394\n",
       "total_exp              22\n",
       "yrs_in comp            88\n",
       "yrs_in_curr_role      488\n",
       "yrs_since_prom       1162\n",
       "yrs_with_curr_mgr     526\n",
       "dtype: int64"
      ]
     },
     "execution_count": 49,
     "metadata": {},
     "output_type": "execute_result"
    }
   ],
   "source": [
    "hr[hr==0].count()"
   ]
  },
  {
   "cell_type": "code",
   "execution_count": 50,
   "metadata": {},
   "outputs": [
    {
     "data": {
      "text/plain": [
       "1    1042\n",
       "0     394\n",
       "3     318\n",
       "2     292\n",
       "4     278\n",
       "7     148\n",
       "6     140\n",
       "5     126\n",
       "9     104\n",
       "8      98\n",
       "Name: num_comp, dtype: int64"
      ]
     },
     "execution_count": 50,
     "metadata": {},
     "output_type": "execute_result"
    }
   ],
   "source": [
    "hr.num_comp.value_counts()"
   ]
  },
  {
   "cell_type": "code",
   "execution_count": 51,
   "metadata": {},
   "outputs": [],
   "source": [
    "# now we have to convert the data to dummy for exact prediction"
   ]
  },
  {
   "cell_type": "markdown",
   "metadata": {},
   "source": [
    "#Check multicolinearity to find out relation between features<br>\n",
    "#correlation matrix - take only the lower triangle. then plot the heatmap to check collinearity<br>\n",
    "#_"
   ]
  },
  {
   "cell_type": "code",
   "execution_count": 54,
   "metadata": {},
   "outputs": [
    {
     "data": {
      "text/plain": [
       "Text(0.5, 1.0, 'correlation Matrix')"
      ]
     },
     "execution_count": 54,
     "metadata": {},
     "output_type": "execute_result"
    },
    {
     "data": {
      "image/png": "[encoded data removed]",
      "text/plain": [
       "<Figure size 432x288 with 2 Axes>"
      ]
     },
     "metadata": {
      "needs_background": "light"
     },
     "output_type": "display_data"
    }
   ],
   "source": [
    "import matplotlib.pyplot as plt\n",
    "hr.dtypes\n",
    "#cols=nc\n",
    "cor = nc.corr()\n",
    "cor = np.tril(cor)\n",
    "sns.heatmap(cor,xticklabels=cols,yticklabels=cols,\n",
    "            vmin=-1,vmax=1,annot=True,square=False)\n",
    "plt.title(\"correlation Matrix\")\n",
    "#so avoid the coreelation in basic model"
   ]
  },
  {
   "cell_type": "markdown",
   "metadata": {},
   "source": [
    "#now  train test split of data for bsuilind basic model"
   ]
  },
  {
   "cell_type": "code",
   "execution_count": null,
   "metadata": {},
   "outputs": [],
   "source": [
    "hr"
   ]
  },
  {
   "cell_type": "code",
   "execution_count": 64,
   "metadata": {},
   "outputs": [
    {
     "data": {
      "text/html": [
       "<div>\n",
       "<style scoped>\n",
       "    .dataframe tbody tr th:only-of-type {\n",
       "        vertical-align: middle;\n",
       "    }\n",
       "\n",
       "    .dataframe tbody tr th {\n",
       "        vertical-align: top;\n",
       "    }\n",
       "\n",
       "    .dataframe thead th {\n",
       "        text-align: right;\n",
       "    }\n",
       "</style>\n",
       "<table border=\"1\" class=\"dataframe\">\n",
       "  <thead>\n",
       "    <tr style=\"text-align: right;\">\n",
       "      <th></th>\n",
       "      <th>attrition</th>\n",
       "      <th>travel</th>\n",
       "      <th>department</th>\n",
       "      <th>gender</th>\n",
       "      <th>marital</th>\n",
       "      <th>attrition_Yes</th>\n",
       "      <th>travel_Travel_Frequently</th>\n",
       "      <th>travel_Travel_Rarely</th>\n",
       "      <th>department_Research &amp; Development</th>\n",
       "      <th>department_Sales</th>\n",
       "      <th>gender_Male</th>\n",
       "      <th>marital_Married</th>\n",
       "      <th>marital_Single</th>\n",
       "    </tr>\n",
       "  </thead>\n",
       "  <tbody>\n",
       "    <tr>\n",
       "      <th>0</th>\n",
       "      <td>Yes</td>\n",
       "      <td>Travel_Rarely</td>\n",
       "      <td>Sales</td>\n",
       "      <td>Female</td>\n",
       "      <td>Single</td>\n",
       "      <td>1</td>\n",
       "      <td>0</td>\n",
       "      <td>1</td>\n",
       "      <td>0</td>\n",
       "      <td>1</td>\n",
       "      <td>0</td>\n",
       "      <td>0</td>\n",
       "      <td>1</td>\n",
       "    </tr>\n",
       "    <tr>\n",
       "      <th>1</th>\n",
       "      <td>No</td>\n",
       "      <td>Travel_Frequently</td>\n",
       "      <td>Research &amp; Development</td>\n",
       "      <td>Male</td>\n",
       "      <td>Married</td>\n",
       "      <td>0</td>\n",
       "      <td>1</td>\n",
       "      <td>0</td>\n",
       "      <td>1</td>\n",
       "      <td>0</td>\n",
       "      <td>1</td>\n",
       "      <td>1</td>\n",
       "      <td>0</td>\n",
       "    </tr>\n",
       "    <tr>\n",
       "      <th>2</th>\n",
       "      <td>No</td>\n",
       "      <td>Travel_Frequently</td>\n",
       "      <td>Research &amp; Development</td>\n",
       "      <td>Female</td>\n",
       "      <td>Married</td>\n",
       "      <td>0</td>\n",
       "      <td>1</td>\n",
       "      <td>0</td>\n",
       "      <td>1</td>\n",
       "      <td>0</td>\n",
       "      <td>0</td>\n",
       "      <td>1</td>\n",
       "      <td>0</td>\n",
       "    </tr>\n",
       "    <tr>\n",
       "      <th>3</th>\n",
       "      <td>No</td>\n",
       "      <td>Travel_Rarely</td>\n",
       "      <td>Research &amp; Development</td>\n",
       "      <td>Male</td>\n",
       "      <td>Married</td>\n",
       "      <td>0</td>\n",
       "      <td>0</td>\n",
       "      <td>1</td>\n",
       "      <td>1</td>\n",
       "      <td>0</td>\n",
       "      <td>1</td>\n",
       "      <td>1</td>\n",
       "      <td>0</td>\n",
       "    </tr>\n",
       "    <tr>\n",
       "      <th>4</th>\n",
       "      <td>No</td>\n",
       "      <td>Travel_Frequently</td>\n",
       "      <td>Research &amp; Development</td>\n",
       "      <td>Male</td>\n",
       "      <td>Single</td>\n",
       "      <td>0</td>\n",
       "      <td>1</td>\n",
       "      <td>0</td>\n",
       "      <td>1</td>\n",
       "      <td>0</td>\n",
       "      <td>1</td>\n",
       "      <td>0</td>\n",
       "      <td>1</td>\n",
       "    </tr>\n",
       "  </tbody>\n",
       "</table>\n",
       "</div>"
      ],
      "text/plain": [
       "  attrition             travel              department  gender  marital  \\\n",
       "0       Yes      Travel_Rarely                   Sales  Female   Single   \n",
       "1        No  Travel_Frequently  Research & Development    Male  Married   \n",
       "2        No  Travel_Frequently  Research & Development  Female  Married   \n",
       "3        No      Travel_Rarely  Research & Development    Male  Married   \n",
       "4        No  Travel_Frequently  Research & Development    Male   Single   \n",
       "\n",
       "   attrition_Yes  travel_Travel_Frequently  travel_Travel_Rarely  \\\n",
       "0              1                         0                     1   \n",
       "1              0                         1                     0   \n",
       "2              0                         1                     0   \n",
       "3              0                         0                     1   \n",
       "4              0                         1                     0   \n",
       "\n",
       "   department_Research & Development  department_Sales  gender_Male  \\\n",
       "0                                  0                 1            0   \n",
       "1                                  1                 0            1   \n",
       "2                                  1                 0            0   \n",
       "3                                  1                 0            1   \n",
       "4                                  1                 0            1   \n",
       "\n",
       "   marital_Married  marital_Single  \n",
       "0                0               1  \n",
       "1                1               0  \n",
       "2                1               0  \n",
       "3                1               0  \n",
       "4                0               1  "
      ]
     },
     "execution_count": 64,
     "metadata": {},
     "output_type": "execute_result"
    }
   ],
   "source": [
    "fc\n",
    "nc\n",
    "# convert factor to dummies\n",
    "new_data = fc\n",
    "new_data\n",
    "for f in fc:\n",
    "    dummy = pd.get_dummies(new_data[f],drop_first=True,prefix=f)\n",
    "    new_data = new_data.join(dummy)\n",
    "    \n",
    "new_data.head(5)\n"
   ]
  },
  {
   "cell_type": "code",
   "execution_count": 56,
   "metadata": {},
   "outputs": [
    {
     "data": {
      "text/plain": [
       "Index(['attrition', 'travel', 'department', 'gender', 'marital',\n",
       "       'attrition_Yes', 'travel_Travel_Frequently', 'travel_Travel_Rarely',\n",
       "       'department_Research & Development', 'department_Sales', 'gender_Male',\n",
       "       'marital_Married', 'marital_Single'],\n",
       "      dtype='object')"
      ]
     },
     "execution_count": 56,
     "metadata": {},
     "output_type": "execute_result"
    }
   ],
   "source": [
    "new_cols = new_data.columns\n",
    "new_cols"
   ]
  },
  {
   "cell_type": "markdown",
   "metadata": {},
   "source": [
    "#remove the original factors"
   ]
  },
  {
   "cell_type": "code",
   "execution_count": 73,
   "metadata": {},
   "outputs": [
    {
     "data": {
      "text/plain": [
       "['travel_Travel_Rarely',\n",
       " 'marital_Single',\n",
       " 'department_Research & Development',\n",
       " 'marital_Married',\n",
       " 'gender_Male',\n",
       " 'attrition_Yes',\n",
       " 'travel_Travel_Frequently',\n",
       " 'department_Sales']"
      ]
     },
     "execution_count": 73,
     "metadata": {},
     "output_type": "execute_result"
    }
   ],
   "source": [
    "new_cols = list(set(new_cols) - set(fc))\n",
    "new_cols"
   ]
  },
  {
   "cell_type": "code",
   "execution_count": null,
   "metadata": {},
   "outputs": [],
   "source": []
  },
  {
   "cell_type": "markdown",
   "metadata": {},
   "source": [
    "refresh the new dataset with the new columns"
   ]
  },
  {
   "cell_type": "code",
   "execution_count": 74,
   "metadata": {},
   "outputs": [
    {
     "data": {
      "text/plain": [
       "Index(['travel_Travel_Rarely', 'marital_Single',\n",
       "       'department_Research & Development', 'marital_Married', 'gender_Male',\n",
       "       'attrition_Yes', 'travel_Travel_Frequently', 'department_Sales'],\n",
       "      dtype='object')"
      ]
     },
     "execution_count": 74,
     "metadata": {},
     "output_type": "execute_result"
    }
   ],
   "source": [
    "new_data = new_data[new_cols]\n",
    "new_data\n",
    "new_data.columns\n",
    "#numerical varible  \n",
    "#nc\n",
    "\n"
   ]
  },
  {
   "cell_type": "code",
   "execution_count": 75,
   "metadata": {},
   "outputs": [
    {
     "data": {
      "text/plain": [
       "Index(['travel_Travel_Rarely', 'marital_Single',\n",
       "       'department_Research & Development', 'marital_Married', 'gender_Male',\n",
       "       'attrition_Yes', 'travel_Travel_Frequently', 'department_Sales', 'age',\n",
       "       'distance', 'job_satisf', 'num_comp', 'total_exp', 'yrs_in comp',\n",
       "       'yrs_in_curr_role', 'yrs_since_prom', 'yrs_with_curr_mgr'],\n",
       "      dtype='object')"
      ]
     },
     "execution_count": 75,
     "metadata": {},
     "output_type": "execute_result"
    }
   ],
   "source": [
    "# Join numerical + categorical dataset\n",
    "# Categorical dataset = new_data\n",
    "data= new_data.join(nc)\n",
    "#data.head\n",
    "data.shape\n",
    "data.columns"
   ]
  },
  {
   "cell_type": "code",
   "execution_count": 76,
   "metadata": {},
   "outputs": [],
   "source": [
    "# split the data into train and test\n",
    "trainx,testx,trainy,testy = train_test_split(\n",
    "    data.drop('attrition_Yes',axis=1),\n",
    "    data['attrition_Yes'],\n",
    "    test_size=0.25)"
   ]
  },
  {
   "cell_type": "code",
   "execution_count": 77,
   "metadata": {},
   "outputs": [
    {
     "data": {
      "text/plain": [
       "80      0\n",
       "1700    0\n",
       "2442    0\n",
       "2413    0\n",
       "887     0\n",
       "       ..\n",
       "2402    0\n",
       "2386    1\n",
       "2484    0\n",
       "2134    0\n",
       "891     0\n",
       "Name: attrition_Yes, Length: 735, dtype: uint8"
      ]
     },
     "execution_count": 77,
     "metadata": {},
     "output_type": "execute_result"
    }
   ],
   "source": [
    "trainx\n",
    "trainy\n",
    "testy"
   ]
  },
  {
   "cell_type": "code",
   "execution_count": 78,
   "metadata": {},
   "outputs": [
    {
     "name": "stdout",
     "output_type": "stream",
     "text": [
      "trainx=(2205, 16), trainy=(2205,), testx=(735, 16), test=(735,)\n"
     ]
    }
   ],
   "source": [
    "print('trainx={}, trainy={}, testx={}, test={}'.format(trainx.shape,trainy.shape,testx.shape,testy.shape))"
   ]
  },
  {
   "cell_type": "code",
   "execution_count": 79,
   "metadata": {},
   "outputs": [
    {
     "name": "stdout",
     "output_type": "stream",
     "text": [
      "Optimization terminated successfully.\n",
      "         Current function value: inf\n",
      "         Iterations 7\n"
     ]
    },
    {
     "name": "stderr",
     "output_type": "stream",
     "text": [
      "E:\\anaconda\\lib\\site-packages\\statsmodels\\discrete\\discrete_model.py:1799: RuntimeWarning: overflow encountered in exp\n",
      "  return 1/(1+np.exp(-X))\n",
      "E:\\anaconda\\lib\\site-packages\\statsmodels\\discrete\\discrete_model.py:1852: RuntimeWarning: divide by zero encountered in log\n",
      "  return np.sum(np.log(self.cdf(q*np.dot(X,params))))\n"
     ]
    }
   ],
   "source": [
    "import statsmodels.api as sm \n",
    "#in logistic regression Logit is the maths behind classification\n",
    "#in linear regression OLS(ordinary least squarre is math behind regression)\n",
    "trainy\n",
    "trainx\n",
    "m1 = sm.Logit(trainy,trainx).fit()"
   ]
  },
  {
   "cell_type": "markdown",
   "metadata": {},
   "source": [
    "summary of the model"
   ]
  },
  {
   "cell_type": "code",
   "execution_count": 80,
   "metadata": {},
   "outputs": [
    {
     "name": "stderr",
     "output_type": "stream",
     "text": [
      "E:\\anaconda\\lib\\site-packages\\statsmodels\\base\\model.py:547: HessianInversionWarning: Inverting hessian failed, no bse or cov_params available\n",
      "  warnings.warn('Inverting hessian failed, no bse or cov_params '\n",
      "E:\\anaconda\\lib\\site-packages\\statsmodels\\base\\model.py:547: HessianInversionWarning: Inverting hessian failed, no bse or cov_params available\n",
      "  warnings.warn('Inverting hessian failed, no bse or cov_params '\n"
     ]
    },
    {
     "data": {
      "text/html": [
       "<table class=\"simpletable\">\n",
       "<caption>Logit Regression Results</caption>\n",
       "<tr>\n",
       "  <th>Dep. Variable:</th>     <td>attrition_Yes</td>  <th>  No. Observations:  </th>  <td>  2205</td> \n",
       "</tr>\n",
       "<tr>\n",
       "  <th>Model:</th>                 <td>Logit</td>      <th>  Df Residuals:      </th>  <td>  2189</td> \n",
       "</tr>\n",
       "<tr>\n",
       "  <th>Method:</th>                 <td>MLE</td>       <th>  Df Model:          </th>  <td>    15</td> \n",
       "</tr>\n",
       "<tr>\n",
       "  <th>Date:</th>            <td>Fri, 28 May 2021</td> <th>  Pseudo R-squ.:     </th>  <td>   inf</td> \n",
       "</tr>\n",
       "<tr>\n",
       "  <th>Time:</th>                <td>00:02:43</td>     <th>  Log-Likelihood:    </th> <td>    -inf</td>\n",
       "</tr>\n",
       "<tr>\n",
       "  <th>converged:</th>             <td>True</td>       <th>  LL-Null:           </th> <td>  0.0000</td>\n",
       "</tr>\n",
       "<tr>\n",
       "  <th>Covariance Type:</th>     <td>nonrobust</td>    <th>  LLR p-value:       </th>  <td> 1.000</td> \n",
       "</tr>\n",
       "</table>\n",
       "<table class=\"simpletable\">\n",
       "<tr>\n",
       "                  <td></td>                     <th>coef</th>     <th>std err</th>      <th>z</th>      <th>P>|z|</th>  <th>[0.025</th>    <th>0.975]</th>  \n",
       "</tr>\n",
       "<tr>\n",
       "  <th>travel_Travel_Rarely</th>              <td>    0.5895</td> <td>    0.216</td> <td>    2.733</td> <td> 0.006</td> <td>    0.167</td> <td>    1.012</td>\n",
       "</tr>\n",
       "<tr>\n",
       "  <th>marital_Single</th>                    <td>    1.1046</td> <td>    0.174</td> <td>    6.366</td> <td> 0.000</td> <td>    0.765</td> <td>    1.445</td>\n",
       "</tr>\n",
       "<tr>\n",
       "  <th>department_Research & Development</th> <td>   -0.7695</td> <td>    0.232</td> <td>   -3.323</td> <td> 0.001</td> <td>   -1.223</td> <td>   -0.316</td>\n",
       "</tr>\n",
       "<tr>\n",
       "  <th>marital_Married</th>                   <td>    0.1160</td> <td>    0.177</td> <td>    0.655</td> <td> 0.512</td> <td>   -0.231</td> <td>    0.463</td>\n",
       "</tr>\n",
       "<tr>\n",
       "  <th>gender_Male</th>                       <td>    0.1894</td> <td>    0.126</td> <td>    1.507</td> <td> 0.132</td> <td>   -0.057</td> <td>    0.436</td>\n",
       "</tr>\n",
       "<tr>\n",
       "  <th>travel_Travel_Frequently</th>          <td>    1.3820</td> <td>    0.238</td> <td>    5.801</td> <td> 0.000</td> <td>    0.915</td> <td>    1.849</td>\n",
       "</tr>\n",
       "<tr>\n",
       "  <th>department_Sales</th>                  <td>   -0.3551</td> <td>    0.243</td> <td>   -1.459</td> <td> 0.144</td> <td>   -0.832</td> <td>    0.122</td>\n",
       "</tr>\n",
       "<tr>\n",
       "  <th>age</th>                               <td>   -0.0396</td> <td>    0.008</td> <td>   -4.694</td> <td> 0.000</td> <td>   -0.056</td> <td>   -0.023</td>\n",
       "</tr>\n",
       "<tr>\n",
       "  <th>distance</th>                          <td>    0.0333</td> <td>    0.007</td> <td>    4.507</td> <td> 0.000</td> <td>    0.019</td> <td>    0.048</td>\n",
       "</tr>\n",
       "<tr>\n",
       "  <th>job_satisf</th>                        <td>   -0.3384</td> <td>    0.054</td> <td>   -6.237</td> <td> 0.000</td> <td>   -0.445</td> <td>   -0.232</td>\n",
       "</tr>\n",
       "<tr>\n",
       "  <th>num_comp</th>                          <td>    0.1510</td> <td>    0.027</td> <td>    5.630</td> <td> 0.000</td> <td>    0.098</td> <td>    0.204</td>\n",
       "</tr>\n",
       "<tr>\n",
       "  <th>total_exp</th>                         <td>   -0.0641</td> <td>    0.017</td> <td>   -3.709</td> <td> 0.000</td> <td>   -0.098</td> <td>   -0.030</td>\n",
       "</tr>\n",
       "<tr>\n",
       "  <th>yrs_in comp</th>                       <td>    0.0790</td> <td>    0.026</td> <td>    2.996</td> <td> 0.003</td> <td>    0.027</td> <td>    0.131</td>\n",
       "</tr>\n",
       "<tr>\n",
       "  <th>yrs_in_curr_role</th>                  <td>   -0.1277</td> <td>    0.031</td> <td>   -4.089</td> <td> 0.000</td> <td>   -0.189</td> <td>   -0.067</td>\n",
       "</tr>\n",
       "<tr>\n",
       "  <th>yrs_since_prom</th>                    <td>    0.1364</td> <td>    0.029</td> <td>    4.768</td> <td> 0.000</td> <td>    0.080</td> <td>    0.192</td>\n",
       "</tr>\n",
       "<tr>\n",
       "  <th>yrs_with_curr_mgr</th>                 <td>   -0.1300</td> <td>    0.032</td> <td>   -4.056</td> <td> 0.000</td> <td>   -0.193</td> <td>   -0.067</td>\n",
       "</tr>\n",
       "</table>"
      ],
      "text/plain": [
       "<class 'statsmodels.iolib.summary.Summary'>\n",
       "\"\"\"\n",
       "                           Logit Regression Results                           \n",
       "==============================================================================\n",
       "Dep. Variable:          attrition_Yes   No. Observations:                 2205\n",
       "Model:                          Logit   Df Residuals:                     2189\n",
       "Method:                           MLE   Df Model:                           15\n",
       "Date:                Fri, 28 May 2021   Pseudo R-squ.:                     inf\n",
       "Time:                        00:02:43   Log-Likelihood:                   -inf\n",
       "converged:                       True   LL-Null:                        0.0000\n",
       "Covariance Type:            nonrobust   LLR p-value:                     1.000\n",
       "=====================================================================================================\n",
       "                                        coef    std err          z      P>|z|      [0.025      0.975]\n",
       "-----------------------------------------------------------------------------------------------------\n",
       "travel_Travel_Rarely                  0.5895      0.216      2.733      0.006       0.167       1.012\n",
       "marital_Single                        1.1046      0.174      6.366      0.000       0.765       1.445\n",
       "department_Research & Development    -0.7695      0.232     -3.323      0.001      -1.223      -0.316\n",
       "marital_Married                       0.1160      0.177      0.655      0.512      -0.231       0.463\n",
       "gender_Male                           0.1894      0.126      1.507      0.132      -0.057       0.436\n",
       "travel_Travel_Frequently              1.3820      0.238      5.801      0.000       0.915       1.849\n",
       "department_Sales                     -0.3551      0.243     -1.459      0.144      -0.832       0.122\n",
       "age                                  -0.0396      0.008     -4.694      0.000      -0.056      -0.023\n",
       "distance                              0.0333      0.007      4.507      0.000       0.019       0.048\n",
       "job_satisf                           -0.3384      0.054     -6.237      0.000      -0.445      -0.232\n",
       "num_comp                              0.1510      0.027      5.630      0.000       0.098       0.204\n",
       "total_exp                            -0.0641      0.017     -3.709      0.000      -0.098      -0.030\n",
       "yrs_in comp                           0.0790      0.026      2.996      0.003       0.027       0.131\n",
       "yrs_in_curr_role                     -0.1277      0.031     -4.089      0.000      -0.189      -0.067\n",
       "yrs_since_prom                        0.1364      0.029      4.768      0.000       0.080       0.192\n",
       "yrs_with_curr_mgr                    -0.1300      0.032     -4.056      0.000      -0.193      -0.067\n",
       "=====================================================================================================\n",
       "\"\"\""
      ]
     },
     "execution_count": 80,
     "metadata": {},
     "output_type": "execute_result"
    }
   ],
   "source": [
    "m1.summary()"
   ]
  },
  {
   "cell_type": "markdown",
   "metadata": {},
   "source": [
    "beta values for individual features"
   ]
  },
  {
   "cell_type": "code",
   "execution_count": 81,
   "metadata": {},
   "outputs": [
    {
     "data": {
      "text/plain": [
       "travel_Travel_Rarely                 0.589520\n",
       "marital_Single                       1.104598\n",
       "department_Research & Development   -0.769466\n",
       "marital_Married                      0.115958\n",
       "gender_Male                          0.189428\n",
       "travel_Travel_Frequently             1.381965\n",
       "department_Sales                    -0.355142\n",
       "age                                 -0.039583\n",
       "distance                             0.033331\n",
       "job_satisf                          -0.338395\n",
       "num_comp                             0.150995\n",
       "total_exp                           -0.064050\n",
       "yrs_in comp                          0.079003\n",
       "yrs_in_curr_role                    -0.127730\n",
       "yrs_since_prom                       0.136414\n",
       "yrs_with_curr_mgr                   -0.130026\n",
       "dtype: float64"
      ]
     },
     "execution_count": 81,
     "metadata": {},
     "output_type": "execute_result"
    }
   ],
   "source": [
    "m1.params"
   ]
  },
  {
   "cell_type": "code",
   "execution_count": 82,
   "metadata": {},
   "outputs": [],
   "source": [
    "p1=m1.predict(testx)"
   ]
  },
  {
   "cell_type": "code",
   "execution_count": 83,
   "metadata": {},
   "outputs": [
    {
     "data": {
      "text/plain": [
       "80      0.077780\n",
       "1700    0.064061\n",
       "2442    0.161150\n",
       "2413    0.327611\n",
       "887     0.006522\n",
       "          ...   \n",
       "2402    0.289548\n",
       "2386    0.021341\n",
       "2484    0.369919\n",
       "2134    0.032929\n",
       "891     0.195821\n",
       "Length: 735, dtype: float64"
      ]
     },
     "execution_count": 83,
     "metadata": {},
     "output_type": "execute_result"
    }
   ],
   "source": [
    "p1"
   ]
  },
  {
   "cell_type": "code",
   "execution_count": 84,
   "metadata": {},
   "outputs": [],
   "source": [
    "P1_y=p1.copy()"
   ]
  },
  {
   "cell_type": "code",
   "execution_count": 85,
   "metadata": {},
   "outputs": [],
   "source": [
    "P1_y[P1_y < 0.5]=1\n",
    "P1_y[P1_y > 0.5]=0"
   ]
  },
  {
   "cell_type": "code",
   "execution_count": 86,
   "metadata": {},
   "outputs": [
    {
     "name": "stdout",
     "output_type": "stream",
     "text": [
      "              precision    recall  f1-score   support\n",
      "\n",
      "           0       0.86      1.00      0.93       633\n",
      "           1       0.00      0.00      0.00       102\n",
      "\n",
      "    accuracy                           0.86       735\n",
      "   macro avg       0.43      0.50      0.46       735\n",
      "weighted avg       0.74      0.86      0.80       735\n",
      "\n"
     ]
    },
    {
     "name": "stderr",
     "output_type": "stream",
     "text": [
      "E:\\anaconda\\lib\\site-packages\\sklearn\\metrics\\_classification.py:1245: UndefinedMetricWarning: Precision and F-score are ill-defined and being set to 0.0 in labels with no predicted samples. Use `zero_division` parameter to control this behavior.\n",
      "  _warn_prf(average, modifier, msg_start, len(result))\n",
      "E:\\anaconda\\lib\\site-packages\\sklearn\\metrics\\_classification.py:1245: UndefinedMetricWarning: Precision and F-score are ill-defined and being set to 0.0 in labels with no predicted samples. Use `zero_division` parameter to control this behavior.\n",
      "  _warn_prf(average, modifier, msg_start, len(result))\n",
      "E:\\anaconda\\lib\\site-packages\\sklearn\\metrics\\_classification.py:1245: UndefinedMetricWarning: Precision and F-score are ill-defined and being set to 0.0 in labels with no predicted samples. Use `zero_division` parameter to control this behavior.\n",
      "  _warn_prf(average, modifier, msg_start, len(result))\n"
     ]
    }
   ],
   "source": [
    "print(classification_report(testy,P1_y))"
   ]
  },
  {
   "cell_type": "code",
   "execution_count": 89,
   "metadata": {},
   "outputs": [
    {
     "data": {
      "text/html": [
       "<div>\n",
       "<style scoped>\n",
       "    .dataframe tbody tr th:only-of-type {\n",
       "        vertical-align: middle;\n",
       "    }\n",
       "\n",
       "    .dataframe tbody tr th {\n",
       "        vertical-align: top;\n",
       "    }\n",
       "\n",
       "    .dataframe thead th {\n",
       "        text-align: right;\n",
       "    }\n",
       "</style>\n",
       "<table border=\"1\" class=\"dataframe\">\n",
       "  <thead>\n",
       "    <tr style=\"text-align: right;\">\n",
       "      <th>predicted</th>\n",
       "      <th>0.0</th>\n",
       "      <th>All</th>\n",
       "    </tr>\n",
       "    <tr>\n",
       "      <th>actual</th>\n",
       "      <th></th>\n",
       "      <th></th>\n",
       "    </tr>\n",
       "  </thead>\n",
       "  <tbody>\n",
       "    <tr>\n",
       "      <th>0</th>\n",
       "      <td>633</td>\n",
       "      <td>633</td>\n",
       "    </tr>\n",
       "    <tr>\n",
       "      <th>1</th>\n",
       "      <td>102</td>\n",
       "      <td>102</td>\n",
       "    </tr>\n",
       "    <tr>\n",
       "      <th>All</th>\n",
       "      <td>735</td>\n",
       "      <td>735</td>\n",
       "    </tr>\n",
       "  </tbody>\n",
       "</table>\n",
       "</div>"
      ],
      "text/plain": [
       "predicted  0.0  All\n",
       "actual             \n",
       "0          633  633\n",
       "1          102  102\n",
       "All        735  735"
      ]
     },
     "execution_count": 89,
     "metadata": {},
     "output_type": "execute_result"
    }
   ],
   "source": [
    "df = pd.DataFrame({'actual':testy,'predicted':P1_y})\n",
    "pd.crosstab(df.actual,df.predicted,margins=True)"
   ]
  },
  {
   "cell_type": "code",
   "execution_count": null,
   "metadata": {},
   "outputs": [],
   "source": []
  }
 ],
 "metadata": {
  "kernelspec": {
   "display_name": "Python 3",
   "language": "python",
   "name": "python3"
  },
  "language_info": {
   "codemirror_mode": {
    "name": "ipython",
    "version": 3
   },
   "file_extension": ".py",
   "mimetype": "text/x-python",
   "name": "python",
   "nbconvert_exporter": "python",
   "pygments_lexer": "ipython3",
   "version": "3.8.5"
  }
 },
 "nbformat": 4,
 "nbformat_minor": 2
}
